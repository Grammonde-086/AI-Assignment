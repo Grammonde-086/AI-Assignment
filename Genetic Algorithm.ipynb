{
 "cells": [
  {
   "cell_type": "markdown",
   "metadata": {},
   "source": [
    "#### This project is trying to maximize the equation: Y = w1x1 + w2x2 + w3x3 + w4x4 + w5x5 + w6x6 (x=input, w=weight)"
   ]
  },
  {
   "cell_type": "markdown",
   "metadata": {},
   "source": [
    "#### Genetic Algorithm Flowchart:\n",
    "<img src=\"https://miro.medium.com/max/968/1*plKxNWoJ8u19UplCbeN9SQ.png\">"
   ]
  },
  {
   "cell_type": "markdown",
   "metadata": {},
   "source": [
    "The idea of maximizing such equation seems simple. The positive input is to be multiplied by the largest possible positive number and the negative number is to be multiplied by the smallest possible negative number. But the idea we are looking to implement is how to make GA do that its own in order to know that it is better to use positive weight with positive inputs and negative weights with negative inputs.\n",
    "\n",
    "Create a list of the 6 inputs and a variable to hold the number of weights"
   ]
  },
  {
   "cell_type": "code",
   "execution_count": 1,
   "metadata": {},
   "outputs": [],
   "source": [
    "# Inputs of the equation.\n",
    "equation_inputs = [4,-2,3.5,5,-11,-4.7]\n",
    "\n",
    "# Number of the weights we are looking to optimize.\n",
    "num_weights = 6"
   ]
  },
  {
   "cell_type": "markdown",
   "metadata": {},
   "source": [
    "#### Initial Population\n",
    "Define the initial population. Based on the number of weights, each chromosome (solution or individual) in the population will definitely have 6 genes, one gene for each weight. There is no fixed value for that and we can select the value that fits well with our problem. But we could leave it generic so that it can be changed in the code. Next, we create a variable that holds the number of solutions per population, another to hold the size of the population, and finally, a variable that holds the actual initial population:"
   ]
  },
  {
   "cell_type": "code",
   "execution_count": 6,
   "metadata": {},
   "outputs": [
    {
     "name": "stdout",
     "output_type": "stream",
     "text": [
      "Population:  (8, 6)\n",
      "8 chromosomes and each one has 6 genes, one for each weight\n",
      "\n",
      "New Population:  [[-1.99883211 -0.40378765 -2.61393079 -3.873453    3.03698178  3.56653698]\n",
      " [-3.735449   -0.55194895  3.23997124  2.77657898 -2.39080936 -3.33471065]\n",
      " [-1.73435959 -1.1564164   1.62835674  0.27307984 -2.53746535  0.0092781 ]\n",
      " [ 2.92449847  0.1673516  -1.13007533 -0.79825109 -3.56754324 -3.18645004]\n",
      " [-1.85953133 -3.4263049  -2.22529784 -1.75383969 -0.52653171 -3.68885847]\n",
      " [ 3.4746645  -3.95729271 -2.55040149  0.29520757  0.29304696  1.09725548]\n",
      " [ 0.25803914  3.3353221   0.10710668  3.13063863  2.10414787  3.56305608]\n",
      " [ 0.27290384  1.3614849   1.10818136  3.8724172  -1.1999307   0.49383548]]\n"
     ]
    }
   ],
   "source": [
    "import numpy\n",
    "sol_per_pop = 8\n",
    "\n",
    "# Defining the population size.\n",
    "pop_size = (sol_per_pop,num_weights) # The population will have sol_per_pop chromosome where each chromosome has num_weights genes.\n",
    "print(\"Population: \",pop_size)\n",
    "print(\"8 chromosomes and each one has 6 genes, one for each weight\")\n",
    "\n",
    "#Creating the initial population.\n",
    "new_population = numpy.random.uniform(low=-4.0, high=4.0, size=pop_size)\n",
    "print(\"\\nNew Population: \",new_population)"
   ]
  },
  {
   "cell_type": "markdown",
   "metadata": {},
   "source": [
    "Note that it is generated randomly and thus it will definitely change when get run again."
   ]
  },
  {
   "cell_type": "markdown",
   "metadata": {},
   "source": [
    "#### Pre-defined GA module from the article:"
   ]
  },
  {
   "cell_type": "code",
   "execution_count": 7,
   "metadata": {},
   "outputs": [],
   "source": [
    "import numpy\n",
    "\n",
    "def cal_pop_fitness(equation_inputs, pop):\n",
    "    # Calculating the fitness value of each solution in the current population.\n",
    "    # The fitness function caulcuates the sum of products between each input and its corresponding weight.\n",
    "    fitness = numpy.sum(pop*equation_inputs, axis=1)\n",
    "    return fitness\n",
    "\n",
    "def select_mating_pool(pop, fitness, num_parents):\n",
    "    # Selecting the best individuals in the current generation as parents for producing the offspring of the next generation.\n",
    "    parents = numpy.empty((num_parents, pop.shape[1]))\n",
    "    for parent_num in range(num_parents):\n",
    "        max_fitness_idx = numpy.where(fitness == numpy.max(fitness))\n",
    "        max_fitness_idx = max_fitness_idx[0][0]\n",
    "        parents[parent_num, :] = pop[max_fitness_idx, :]\n",
    "        fitness[max_fitness_idx] = -99999999999\n",
    "    return parents\n",
    "\n",
    "def crossover(parents, offspring_size):\n",
    "    offspring = numpy.empty(offspring_size)\n",
    "    # The point at which crossover takes place between two parents. Usually it is at the center.\n",
    "    crossover_point = numpy.uint8(offspring_size[1]/2)\n",
    "\n",
    "    for k in range(offspring_size[0]):\n",
    "        # Index of the first parent to mate.\n",
    "        parent1_idx = k%parents.shape[0]\n",
    "        # Index of the second parent to mate.\n",
    "        parent2_idx = (k+1)%parents.shape[0]\n",
    "        # The new offspring will have its first half of its genes taken from the first parent.\n",
    "        offspring[k, 0:crossover_point] = parents[parent1_idx, 0:crossover_point]\n",
    "        # The new offspring will have its second half of its genes taken from the second parent.\n",
    "        offspring[k, crossover_point:] = parents[parent2_idx, crossover_point:]\n",
    "    return offspring\n",
    "\n",
    "def mutation(offspring_crossover):\n",
    "    # Mutation changes a single gene in each offspring randomly.\n",
    "    for idx in range(offspring_crossover.shape[0]):\n",
    "        # The random value to be added to the gene.\n",
    "        random_value = numpy.random.uniform(-1.0, 1.0, 1)\n",
    "        offspring_crossover[idx, 4] = offspring_crossover[idx, 4] + random_value\n",
    "    return offspring_crossover"
   ]
  },
  {
   "cell_type": "markdown",
   "metadata": {},
   "source": [
    "It will run through 5 generation. Step for each generation:\n",
    "<ol>\n",
    "    <li>The first step is to <b>find the fitness value</b> of each solution within the population using the <code>cal_pop_fitness</code> function. The fitness function accepts both the equation inputs values (x1 to x6) in addition to the population. The fitness value is calculated as the sum of product (SOP) between each input and its corresponding gene (weight) according to our function. According to the number of solutions per population, there will be a number of SOPs. As we previously set the number of solutions to 8 in the variable named sol_per_pop, there will be 8 SOPs</li>\n",
    "    <li><b>Select the best of them as parents</b> in the mating pool according to the next function <code>select_mating_pool</code>. It accepts the population, the fitness values, and the number of parents needed. It returns the parents selected.</li>\n",
    "    <li>Use such selected parents for mating in order to <b>generate the offspring</b>. The mating starts with the crossover operation according to the <code>crossover</code> function. This function accepts the parents and the offspring size. It uses the offspring size to know the number of offspring to produce from such parents.</li>\n",
    "    <li>Next <b>mutation</b>, to the results of the crossover stored in the offspring variable using the <code>mutation</code> function. Such function accepts the crossover offspring and returns them after applying uniform mutation.</li>\n",
    "    <li>It is preferred to keep the previous best solutions (parents) in the new population. In the worst case when all the new offspring are worse than such parents, we will continue using such parents. As a result, we guarantee that the new generation will at least preserve the previous good results and will not go worse. The new population will have its first 4 solutions from the previous parents. The last 4 solutions come from the offspring created after applying crossover and mutation</li>\n",
    "    <li>Pick the best solution from the new population</li>\n",
    "</ol>"
   ]
  },
  {
   "cell_type": "code",
   "execution_count": 14,
   "metadata": {},
   "outputs": [
    {
     "name": "stdout",
     "output_type": "stream",
     "text": [
      "\n",
      "Generation :  0\n",
      "Fitness values:  [157.03884009 149.4391733  148.2709876  146.75572273 143.88068107\n",
      " 145.87461441 144.08211719 161.71746616]\n",
      "Selected Parents:  [[  2.92449847   0.1673516   -1.13007533   2.77657898 -11.34121856\n",
      "   -3.33471065]\n",
      " [  2.92449847   0.1673516   -1.13007533   2.77657898 -10.91588892\n",
      "   -3.33471065]\n",
      " [  2.92449847   0.1673516   -1.13007533   2.77657898 -10.22501012\n",
      "   -3.33471065]\n",
      " [  2.92449847   0.1673516   -1.13007533   2.77657898 -10.11881142\n",
      "   -3.33471065]]\n",
      "Crossover result:  [[  2.92449847   0.1673516   -1.13007533   2.77657898 -10.91588892\n",
      "   -3.33471065]\n",
      " [  2.92449847   0.1673516   -1.13007533   2.77657898 -10.22501012\n",
      "   -3.33471065]\n",
      " [  2.92449847   0.1673516   -1.13007533   2.77657898 -10.11881142\n",
      "   -3.33471065]\n",
      " [  2.92449847   0.1673516   -1.13007533   2.77657898 -11.34121856\n",
      "   -3.33471065]]\n",
      "Mutation result:  [[  2.92449847   0.1673516   -1.13007533   2.77657898 -11.4433854\n",
      "   -3.33471065]\n",
      " [  2.92449847   0.1673516   -1.13007533   2.77657898  -9.37871568\n",
      "   -3.33471065]\n",
      " [  2.92449847   0.1673516   -1.13007533   2.77657898  -9.6935088\n",
      "   -3.33471065]\n",
      " [  2.92449847   0.1673516   -1.13007533   2.77657898 -11.5909034\n",
      "   -3.33471065]]\n",
      "Best result :  164.46399942752768\n",
      "\n",
      "Generation :  1\n",
      "Fitness values:  [161.71746616 157.03884009 149.4391733  148.2709876  162.84130144\n",
      " 140.12993448 143.59265877 164.46399943]\n",
      "Selected Parents:  [[  2.92449847   0.1673516   -1.13007533   2.77657898 -11.5909034\n",
      "   -3.33471065]\n",
      " [  2.92449847   0.1673516   -1.13007533   2.77657898 -11.4433854\n",
      "   -3.33471065]\n",
      " [  2.92449847   0.1673516   -1.13007533   2.77657898 -11.34121856\n",
      "   -3.33471065]\n",
      " [  2.92449847   0.1673516   -1.13007533   2.77657898 -10.91588892\n",
      "   -3.33471065]]\n",
      "Crossover result:  [[  2.92449847   0.1673516   -1.13007533   2.77657898 -11.4433854\n",
      "   -3.33471065]\n",
      " [  2.92449847   0.1673516   -1.13007533   2.77657898 -11.34121856\n",
      "   -3.33471065]\n",
      " [  2.92449847   0.1673516   -1.13007533   2.77657898 -10.91588892\n",
      "   -3.33471065]\n",
      " [  2.92449847   0.1673516   -1.13007533   2.77657898 -11.5909034\n",
      "   -3.33471065]]\n",
      "Mutation result:  [[  2.92449847   0.1673516   -1.13007533   2.77657898 -11.84883426\n",
      "   -3.33471065]\n",
      " [  2.92449847   0.1673516   -1.13007533   2.77657898 -12.1535768\n",
      "   -3.33471065]\n",
      " [  2.92449847   0.1673516   -1.13007533   2.77657898 -10.7798342\n",
      "   -3.33471065]\n",
      " [  2.92449847   0.1673516   -1.13007533   2.77657898 -11.57515472\n",
      "   -3.33471065]]\n",
      "Best result :  170.65340680571413\n",
      "\n",
      "Generation :  2\n",
      "Fitness values:  [164.46399943 162.84130144 161.71746616 157.03884009 167.3012388\n",
      " 170.65340681 155.54223822 164.29076391]\n",
      "Selected Parents:  [[  2.92449847   0.1673516   -1.13007533   2.77657898 -12.1535768\n",
      "   -3.33471065]\n",
      " [  2.92449847   0.1673516   -1.13007533   2.77657898 -11.84883426\n",
      "   -3.33471065]\n",
      " [  2.92449847   0.1673516   -1.13007533   2.77657898 -11.5909034\n",
      "   -3.33471065]\n",
      " [  2.92449847   0.1673516   -1.13007533   2.77657898 -11.57515472\n",
      "   -3.33471065]]\n",
      "Crossover result:  [[  2.92449847   0.1673516   -1.13007533   2.77657898 -11.84883426\n",
      "   -3.33471065]\n",
      " [  2.92449847   0.1673516   -1.13007533   2.77657898 -11.5909034\n",
      "   -3.33471065]\n",
      " [  2.92449847   0.1673516   -1.13007533   2.77657898 -11.57515472\n",
      "   -3.33471065]\n",
      " [  2.92449847   0.1673516   -1.13007533   2.77657898 -12.1535768\n",
      "   -3.33471065]]\n",
      "Mutation result:  [[  2.92449847   0.1673516   -1.13007533   2.77657898 -11.56409875\n",
      "   -3.33471065]\n",
      " [  2.92449847   0.1673516   -1.13007533   2.77657898 -11.64429047\n",
      "   -3.33471065]\n",
      " [  2.92449847   0.1673516   -1.13007533   2.77657898 -12.37525833\n",
      "   -3.33471065]\n",
      " [  2.92449847   0.1673516   -1.13007533   2.77657898 -12.52223984\n",
      "   -3.33471065]]\n",
      "Best result :  174.7087002738937\n",
      "\n",
      "Generation :  3\n",
      "Fitness values:  [170.65340681 167.3012388  164.46399943 164.29076391 164.16914828\n",
      " 165.05125718 173.09190366 174.70870027]\n",
      "Selected Parents:  [[  2.92449847   0.1673516   -1.13007533   2.77657898 -12.52223984\n",
      "   -3.33471065]\n",
      " [  2.92449847   0.1673516   -1.13007533   2.77657898 -12.37525833\n",
      "   -3.33471065]\n",
      " [  2.92449847   0.1673516   -1.13007533   2.77657898 -12.1535768\n",
      "   -3.33471065]\n",
      " [  2.92449847   0.1673516   -1.13007533   2.77657898 -11.84883426\n",
      "   -3.33471065]]\n",
      "Crossover result:  [[  2.92449847   0.1673516   -1.13007533   2.77657898 -12.37525833\n",
      "   -3.33471065]\n",
      " [  2.92449847   0.1673516   -1.13007533   2.77657898 -12.1535768\n",
      "   -3.33471065]\n",
      " [  2.92449847   0.1673516   -1.13007533   2.77657898 -11.84883426\n",
      "   -3.33471065]\n",
      " [  2.92449847   0.1673516   -1.13007533   2.77657898 -12.52223984\n",
      "   -3.33471065]]\n",
      "Mutation result:  [[  2.92449847   0.1673516   -1.13007533   2.77657898 -12.35246165\n",
      "   -3.33471065]\n",
      " [  2.92449847   0.1673516   -1.13007533   2.77657898 -13.09287941\n",
      "   -3.33471065]\n",
      " [  2.92449847   0.1673516   -1.13007533   2.77657898 -11.39066062\n",
      "   -3.33471065]\n",
      " [  2.92449847   0.1673516   -1.13007533   2.77657898 -12.16963827\n",
      "   -3.33471065]]\n",
      "Best result :  180.985735494088\n",
      "\n",
      "Generation :  4\n",
      "Fitness values:  [174.70870027 173.09190366 170.65340681 167.3012388  172.84114017\n",
      " 180.98573549 162.26132884 170.83008297]\n",
      "Selected Parents:  [[  2.92449847   0.1673516   -1.13007533   2.77657898 -13.09287941\n",
      "   -3.33471065]\n",
      " [  2.92449847   0.1673516   -1.13007533   2.77657898 -12.52223984\n",
      "   -3.33471065]\n",
      " [  2.92449847   0.1673516   -1.13007533   2.77657898 -12.37525833\n",
      "   -3.33471065]\n",
      " [  2.92449847   0.1673516   -1.13007533   2.77657898 -12.35246165\n",
      "   -3.33471065]]\n",
      "Crossover result:  [[  2.92449847   0.1673516   -1.13007533   2.77657898 -12.52223984\n",
      "   -3.33471065]\n",
      " [  2.92449847   0.1673516   -1.13007533   2.77657898 -12.37525833\n",
      "   -3.33471065]\n",
      " [  2.92449847   0.1673516   -1.13007533   2.77657898 -12.35246165\n",
      "   -3.33471065]\n",
      " [  2.92449847   0.1673516   -1.13007533   2.77657898 -13.09287941\n",
      "   -3.33471065]]\n",
      "Mutation result:  [[  2.92449847   0.1673516   -1.13007533   2.77657898 -11.81319727\n",
      "   -3.33471065]\n",
      " [  2.92449847   0.1673516   -1.13007533   2.77657898 -11.76324719\n",
      "   -3.33471065]\n",
      " [  2.92449847   0.1673516   -1.13007533   2.77657898 -13.03276685\n",
      "   -3.33471065]\n",
      " [  2.92449847   0.1673516   -1.13007533   2.77657898 -13.60187339\n",
      "   -3.33471065]]\n",
      "Best result :  186.58466927598747\n"
     ]
    }
   ],
   "source": [
    "num_generations = 5\n",
    "num_parents_mating = 4\n",
    "\n",
    "for generation in range(num_generations):\n",
    "    print(\"\\nGeneration : \", generation)\n",
    "    # Measing the fitness of each chromosome in the population.\n",
    "    fitness = cal_pop_fitness(equation_inputs, new_population)\n",
    "    print(\"Fitness values: \",fitness)\n",
    "\n",
    "    # Selecting the best parents in the population for mating.\n",
    "    parents = select_mating_pool(new_population, fitness, \n",
    "                                      num_parents_mating)\n",
    "    print(\"Selected Parents: \",parents)\n",
    "\n",
    "    # Generating next generation using crossover.\n",
    "    offspring_crossover = crossover(parents,\n",
    "                                       offspring_size=(pop_size[0]-parents.shape[0], num_weights))\n",
    "    print(\"Crossover result: \",offspring_crossover)\n",
    "    \n",
    "    # Adding some variations to the offsrping using mutation.\n",
    "    offspring_mutation = mutation(offspring_crossover)\n",
    "    print(\"Mutation result: \",offspring_mutation)\n",
    "\n",
    "    # Creating the new population based on the parents and offspring.\n",
    "    new_population[0:parents.shape[0], :] = parents\n",
    "    new_population[parents.shape[0]:, :] = offspring_mutation\n",
    "\n",
    "    # The best result in the current iteration.\n",
    "    print(\"Best result : \", numpy.max(numpy.sum(new_population*equation_inputs, axis=1)))"
   ]
  },
  {
   "cell_type": "markdown",
   "metadata": {},
   "source": [
    "#### Getting the best solution after iterating finishing all generations.\n",
    "At first, the fitness is calculated for each solution in the final generation. Then return the index of that solution corresponding to the best fitness. "
   ]
  },
  {
   "cell_type": "code",
   "execution_count": 16,
   "metadata": {},
   "outputs": [
    {
     "name": "stdout",
     "output_type": "stream",
     "text": [
      "\n",
      "Best solution :  [[[  2.92449847   0.1673516   -1.13007533   2.77657898 -13.60187339\n",
      "    -3.33471065]]]\n",
      "\n",
      "Best solution fitness :  [186.58466928]\n"
     ]
    }
   ],
   "source": [
    "fitness = cal_pop_fitness(equation_inputs, new_population)\n",
    "best_match_idx = numpy.where(fitness == numpy.max(fitness))\n",
    "\n",
    "print(\"\\nBest solution : \", new_population[best_match_idx, :])\n",
    "print(\"\\nBest solution fitness : \", fitness[best_match_idx])"
   ]
  },
  {
   "cell_type": "code",
   "execution_count": null,
   "metadata": {},
   "outputs": [],
   "source": []
  }
 ],
 "metadata": {
  "kernelspec": {
   "display_name": "Python [conda env:MyEnv] *",
   "language": "python",
   "name": "conda-env-MyEnv-py"
  },
  "language_info": {
   "codemirror_mode": {
    "name": "ipython",
    "version": 3
   },
   "file_extension": ".py",
   "mimetype": "text/x-python",
   "name": "python",
   "nbconvert_exporter": "python",
   "pygments_lexer": "ipython3",
   "version": "3.7.7"
  }
 },
 "nbformat": 4,
 "nbformat_minor": 4
}
