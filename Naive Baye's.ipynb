{
 "cells": [
  {
   "cell_type": "markdown",
   "metadata": {},
   "source": [
    "### Naive Bayes Classification\n",
    "#### Classification Workflow\n",
    "First step is to understand the problem and identify potential features and label. Features are those characteristics or attributes which affect the results of the label. The classification has two phases, a learning phase, and the evaluation phase. In the learning phase, classifier trains its model on a given dataset and in the evaluation phase, it tests the classifier performance. Performance is evaluated on the basis of various parameters such as accuracy, error, precision, and recall.\n",
    "<br >\n",
    "#### Naive Bayes Overview:\n",
    "Naive Bayes is a statistical classification technique based on Bayes Theorem. It assumes that the effect of a particular feature in a class is independent of other features. For example, a loan applicant is desirable or not depending on his/her income, previous loan and transaction history, age, and location.\n",
    "#### Bayes Theorem:\n",
    "<img src=\"https://res.cloudinary.com/dyd911kmh/image/upload/f_auto,q_auto:best/v1543836882/image_3_ijznzs.png\">\n",
    "<ul>\n",
    "    <li>P(h): the probability of hypothesis h being true (regardless of the data). This is known as the prior probability of h.</li>\n",
    "    <li>P(D): the probability of the data (regardless of the hypothesis). This is known as the prior probability.</li>\n",
    "    <li>P(h|D): the probability of hypothesis h given the data D. This is known as posterior probability.</li>\n",
    "    <li>P(D|h): the probability of data d given that the hypothesis h was true. This is known as posterior probability.</li>\n",
    "</ul>\n",
    "\n",
    "#### How Naive Bayes Work:\n",
    "<ol>\n",
    "    <li>Calculate the prior probability for given class labels</li>\n",
    "    <li>Find Likelihood probability with each attribute for each class</li>\n",
    "    <li>Put these value in Bayes Formula and calculate posterior probability.</li>\n",
    "<li>See which class has a higher probability, given the input belongs to the higher probability class.</li>\n",
    "</ol>\n",
    "<img src=\"https://res.cloudinary.com/dyd911kmh/image/upload/f_auto,q_auto:best/v1543836883/image_4_lyi0ob.png\">\n",
    "Now suppose you want to calculate the probability of playing when the weather is overcast.<br>\n",
    "<b>Probability of playing:</b>\n",
    "\n",
    "<code>P(Yes | Overcast) = P(Overcast | Yes) P(Yes) / P (Overcast)</code> .....................(1)\n",
    "\n",
    "Calculate Prior Probabilities:\n",
    "\n",
    "<code>P(Overcast)</code> = 4/14 = 0.29\n",
    "\n",
    "<code>P(Yes)</code>= 9/14 = 0.64\n",
    "\n",
    "Calculate Posterior Probabilities:\n",
    "\n",
    "<code>P(Overcast |Yes)</code> = 4/9 = 0.44\n",
    "\n",
    "Put Prior and Posterior probabilities in equation (1)\n",
    "\n",
    "<code>P (Yes | Overcast)</code> = 0.44 * 0.64 / 0.29 = 0.98(Higher)\n",
    "\n",
    "Similarly, you can calculate the probability of not playing:\n",
    "\n",
    "<b>Probability of not playing:</b>\n",
    "\n",
    "<code>P(No | Overcast) = P(Overcast | No) P(No) / P (Overcast)</code> .....................(2)\n",
    "\n",
    "Calculate Prior Probabilities:\n",
    "\n",
    "<code>P(Overcast)</code> = 4/14 = 0.29\n",
    "\n",
    "<code>P(No)</code>= 5/14 = 0.36\n",
    "\n",
    "Calculate Posterior Probabilities:\n",
    "\n",
    "<code>P(Overcast |No)</code> = 0/9 = 0\n",
    "\n",
    "Put Prior and Posterior probabilities in equation (2)\n",
    "\n",
    "<code>P (No | Overcast)</code> = 0 * 0.36 / 0.29 = 0\n",
    "\n",
    "==> The probability of a 'Yes' class is higher. So you can determine here if the weather is overcast than players will play the sport."
   ]
  },
  {
   "cell_type": "markdown",
   "metadata": {},
   "source": [
    "### Naive Bayes Classifier Building\n",
    "#### Defining Dataset\n",
    "The first two are features(weather, temperature) and the other is the label."
   ]
  },
  {
   "cell_type": "code",
   "execution_count": 1,
   "metadata": {},
   "outputs": [],
   "source": [
    "# Assigning features and label variables\n",
    "weather=['Sunny','Sunny','Overcast','Rainy','Rainy','Rainy','Overcast','Sunny','Sunny',\n",
    "'Rainy','Sunny','Overcast','Overcast','Rainy']\n",
    "temp=['Hot','Hot','Hot','Mild','Cool','Cool','Cool','Mild','Cool','Mild','Mild','Mild','Hot','Mild']\n",
    "\n",
    "play=['No','No','Yes','Yes','Yes','No','Yes','No','Yes','Yes','Yes','Yes','Yes','No']"
   ]
  },
  {
   "cell_type": "markdown",
   "metadata": {},
   "source": [
    "#### Encoding Features\n",
    "Need to convert these string labels into numbers. for example: 'Overcast', 'Rainy', 'Sunny' as 0, 1, 2."
   ]
  },
  {
   "cell_type": "code",
   "execution_count": 2,
   "metadata": {},
   "outputs": [
    {
     "name": "stdout",
     "output_type": "stream",
     "text": [
      "[2 2 0 1 1 1 0 2 2 1 2 0 0 1]\n"
     ]
    }
   ],
   "source": [
    "# Import LabelEncoder\n",
    "from sklearn import preprocessing\n",
    "#creating labelEncoder\n",
    "le = preprocessing.LabelEncoder()\n",
    "# Converting string labels into numbers.\n",
    "weather_encoded=le.fit_transform(weather)\n",
    "print(weather_encoded)"
   ]
  },
  {
   "cell_type": "markdown",
   "metadata": {},
   "source": [
    "Similarly, encode temp and play"
   ]
  },
  {
   "cell_type": "code",
   "execution_count": 3,
   "metadata": {},
   "outputs": [
    {
     "name": "stdout",
     "output_type": "stream",
     "text": [
      "Temp: [1 1 1 2 0 0 0 2 0 2 2 2 1 2]\n",
      "Play: [0 0 1 1 1 0 1 0 1 1 1 1 1 0]\n"
     ]
    }
   ],
   "source": [
    "#temp and play data set\n",
    "temp_encoded=le.fit_transform(temp)\n",
    "label=le.fit_transform(play)\n",
    "print (\"Temp:\",temp_encoded)\n",
    "print (\"Play:\",label)"
   ]
  },
  {
   "cell_type": "markdown",
   "metadata": {},
   "source": [
    "Combine both the features (weather and temp) in a single variable (list of tuples)."
   ]
  },
  {
   "cell_type": "code",
   "execution_count": 4,
   "metadata": {},
   "outputs": [
    {
     "name": "stdout",
     "output_type": "stream",
     "text": [
      "[(2, 1), (2, 1), (0, 1), (1, 2), (1, 0), (1, 0), (0, 0), (2, 2), (2, 0), (1, 2), (2, 2), (0, 2), (0, 1), (1, 2)]\n"
     ]
    }
   ],
   "source": [
    "#combine weather and temp into tuple\n",
    "\n",
    "features=list(zip(weather_encoded,temp_encoded))\n",
    "print(features)"
   ]
  },
  {
   "cell_type": "markdown",
   "metadata": {},
   "source": [
    "### Generate model by:\n",
    "<ul>\n",
    "    <li>create naive bayes classifier</li>\n",
    "    <li>fit dataset on classifier</li>\n",
    "    <li>perform prediction</li>\n",
    "</ul>\n"
   ]
  },
  {
   "cell_type": "code",
   "execution_count": 5,
   "metadata": {},
   "outputs": [
    {
     "name": "stdout",
     "output_type": "stream",
     "text": [
      "Predicted Value: [1]\n"
     ]
    }
   ],
   "source": [
    "#Import Gaussian Naive Bayes model\n",
    "from sklearn.naive_bayes import GaussianNB\n",
    "\n",
    "#Create a Gaussian Classifier\n",
    "model = GaussianNB()\n",
    "\n",
    "# Train the model using the training sets\n",
    "model.fit(features,label)\n",
    "\n",
    "#Predict Output: can play or not if it is overcast and mild\n",
    "predicted= model.predict([[0,2]]) # 0:Overcast, 2:Mild\n",
    "print(\"Predicted Value:\", predicted)"
   ]
  },
  {
   "cell_type": "markdown",
   "metadata": {},
   "source": [
    "1 indicate \"Can Play\""
   ]
  },
  {
   "cell_type": "markdown",
   "metadata": {},
   "source": [
    "### Naive Bayes with Multiple Label\n",
    "#### Loading the dataset\n",
    "Our dataset that consist of the result of a chemical analysis of wines grown in the same region in Italy but derived from three different cultivars.\n",
    "\n",
    "Dataset comprises of 13 features (alcohol, malic_acid, ash, alcalinity_of_ash, magnesium, total_phenols, flavanoids, nonflavanoid_phenols, proanthocyanins, color_intensity, hue, od280/od315_of_diluted_wines, proline) and type of wine cultivar. This data has three type of wine Class_0, Class_1, and Class_3."
   ]
  },
  {
   "cell_type": "code",
   "execution_count": 6,
   "metadata": {},
   "outputs": [],
   "source": [
    "#Loading data\n",
    "#Import scikit-learn dataset library\n",
    "from sklearn import datasets\n",
    "\n",
    "wine = datasets.load_wine()"
   ]
  },
  {
   "cell_type": "markdown",
   "metadata": {},
   "source": [
    "#### Exploring Data"
   ]
  },
  {
   "cell_type": "code",
   "execution_count": 7,
   "metadata": {},
   "outputs": [
    {
     "name": "stdout",
     "output_type": "stream",
     "text": [
      "Features:  ['alcohol', 'malic_acid', 'ash', 'alcalinity_of_ash', 'magnesium', 'total_phenols', 'flavanoids', 'nonflavanoid_phenols', 'proanthocyanins', 'color_intensity', 'hue', 'od280/od315_of_diluted_wines', 'proline']\n",
      "\n",
      "Labels:  ['class_0' 'class_1' 'class_2']\n"
     ]
    }
   ],
   "source": [
    "# print the names of the 13 features\n",
    "print(\"Features: \", wine.feature_names)\n",
    "\n",
    "# print the label type of wine(class_0, class_1, class_2)\n",
    "print(\"\\nLabels: \", wine.target_names)"
   ]
  },
  {
   "cell_type": "code",
   "execution_count": 8,
   "metadata": {},
   "outputs": [
    {
     "data": {
      "text/plain": [
       "(178, 13)"
      ]
     },
     "execution_count": 8,
     "metadata": {},
     "output_type": "execute_result"
    }
   ],
   "source": [
    "# print data(feature)shape\n",
    "wine.data.shape"
   ]
  },
  {
   "cell_type": "code",
   "execution_count": 9,
   "metadata": {},
   "outputs": [
    {
     "name": "stdout",
     "output_type": "stream",
     "text": [
      "[[1.423e+01 1.710e+00 2.430e+00 1.560e+01 1.270e+02 2.800e+00 3.060e+00\n",
      "  2.800e-01 2.290e+00 5.640e+00 1.040e+00 3.920e+00 1.065e+03]\n",
      " [1.320e+01 1.780e+00 2.140e+00 1.120e+01 1.000e+02 2.650e+00 2.760e+00\n",
      "  2.600e-01 1.280e+00 4.380e+00 1.050e+00 3.400e+00 1.050e+03]\n",
      " [1.316e+01 2.360e+00 2.670e+00 1.860e+01 1.010e+02 2.800e+00 3.240e+00\n",
      "  3.000e-01 2.810e+00 5.680e+00 1.030e+00 3.170e+00 1.185e+03]\n",
      " [1.437e+01 1.950e+00 2.500e+00 1.680e+01 1.130e+02 3.850e+00 3.490e+00\n",
      "  2.400e-01 2.180e+00 7.800e+00 8.600e-01 3.450e+00 1.480e+03]\n",
      " [1.324e+01 2.590e+00 2.870e+00 2.100e+01 1.180e+02 2.800e+00 2.690e+00\n",
      "  3.900e-01 1.820e+00 4.320e+00 1.040e+00 2.930e+00 7.350e+02]]\n"
     ]
    }
   ],
   "source": [
    "# print the wine data features (top 5 records)\n",
    "print(wine.data[0:5])"
   ]
  },
  {
   "cell_type": "code",
   "execution_count": 10,
   "metadata": {},
   "outputs": [
    {
     "name": "stdout",
     "output_type": "stream",
     "text": [
      "[0 0 0 0 0 0 0 0 0 0 0 0 0 0 0 0 0 0 0 0 0 0 0 0 0 0 0 0 0 0 0 0 0 0 0 0 0\n",
      " 0 0 0 0 0 0 0 0 0 0 0 0 0 0 0 0 0 0 0 0 0 0 1 1 1 1 1 1 1 1 1 1 1 1 1 1 1\n",
      " 1 1 1 1 1 1 1 1 1 1 1 1 1 1 1 1 1 1 1 1 1 1 1 1 1 1 1 1 1 1 1 1 1 1 1 1 1\n",
      " 1 1 1 1 1 1 1 1 1 1 1 1 1 1 1 1 1 1 1 2 2 2 2 2 2 2 2 2 2 2 2 2 2 2 2 2 2\n",
      " 2 2 2 2 2 2 2 2 2 2 2 2 2 2 2 2 2 2 2 2 2 2 2 2 2 2 2 2 2 2]\n"
     ]
    }
   ],
   "source": [
    "# print the wine labels (0:Class_0, 1:class_2, 2:class_2)\n",
    "print(wine.target)"
   ]
  },
  {
   "cell_type": "markdown",
   "metadata": {},
   "source": [
    "#### Splitting Data\n",
    "Seperate the columns into dependent and independent variables then split those variables into train and test set with 70% training and 30% test"
   ]
  },
  {
   "cell_type": "code",
   "execution_count": 12,
   "metadata": {},
   "outputs": [
    {
     "name": "stdout",
     "output_type": "stream",
     "text": [
      "X_train [[1.323e+01 3.300e+00 2.280e+00 ... 5.600e-01 1.510e+00 6.750e+02]\n",
      " [1.384e+01 4.120e+00 2.380e+00 ... 5.700e-01 1.640e+00 4.800e+02]\n",
      " [1.220e+01 3.030e+00 2.320e+00 ... 6.600e-01 1.830e+00 5.100e+02]\n",
      " ...\n",
      " [1.362e+01 4.950e+00 2.350e+00 ... 9.100e-01 2.050e+00 5.500e+02]\n",
      " [1.336e+01 2.560e+00 2.350e+00 ... 7.000e-01 2.470e+00 7.800e+02]\n",
      " [1.439e+01 1.870e+00 2.450e+00 ... 1.020e+00 3.580e+00 1.290e+03]]\n",
      "X_test [[1.330000e+01 1.720000e+00 2.140000e+00 1.700000e+01 9.400000e+01\n",
      "  2.400000e+00 2.190000e+00 2.700000e-01 1.350000e+00 3.950000e+00\n",
      "  1.020000e+00 2.770000e+00 1.285000e+03]\n",
      " [1.293000e+01 3.800000e+00 2.650000e+00 1.860000e+01 1.020000e+02\n",
      "  2.410000e+00 2.410000e+00 2.500000e-01 1.980000e+00 4.500000e+00\n",
      "  1.030000e+00 3.520000e+00 7.700000e+02]\n",
      " [1.221000e+01 1.190000e+00 1.750000e+00 1.680000e+01 1.510000e+02\n",
      "  1.850000e+00 1.280000e+00 1.400000e-01 2.500000e+00 2.850000e+00\n",
      "  1.280000e+00 3.070000e+00 7.180000e+02]\n",
      " [1.253000e+01 5.510000e+00 2.640000e+00 2.500000e+01 9.600000e+01\n",
      "  1.790000e+00 6.000000e-01 6.300000e-01 1.100000e+00 5.000000e+00\n",
      "  8.200000e-01 1.690000e+00 5.150000e+02]\n",
      " [1.421000e+01 4.040000e+00 2.440000e+00 1.890000e+01 1.110000e+02\n",
      "  2.850000e+00 2.650000e+00 3.000000e-01 1.250000e+00 5.240000e+00\n",
      "  8.700000e-01 3.330000e+00 1.080000e+03]\n",
      " [1.311000e+01 1.010000e+00 1.700000e+00 1.500000e+01 7.800000e+01\n",
      "  2.980000e+00 3.180000e+00 2.600000e-01 2.280000e+00 5.300000e+00\n",
      "  1.120000e+00 3.180000e+00 5.020000e+02]\n",
      " [1.285000e+01 1.600000e+00 2.520000e+00 1.780000e+01 9.500000e+01\n",
      "  2.480000e+00 2.370000e+00 2.600000e-01 1.460000e+00 3.930000e+00\n",
      "  1.090000e+00 3.630000e+00 1.015000e+03]\n",
      " [1.299000e+01 1.670000e+00 2.600000e+00 3.000000e+01 1.390000e+02\n",
      "  3.300000e+00 2.890000e+00 2.100000e-01 1.960000e+00 3.350000e+00\n",
      "  1.310000e+00 3.500000e+00 9.850000e+02]\n",
      " [1.216000e+01 1.610000e+00 2.310000e+00 2.280000e+01 9.000000e+01\n",
      "  1.780000e+00 1.690000e+00 4.300000e-01 1.560000e+00 2.450000e+00\n",
      "  1.330000e+00 2.260000e+00 4.950000e+02]\n",
      " [1.374000e+01 1.670000e+00 2.250000e+00 1.640000e+01 1.180000e+02\n",
      "  2.600000e+00 2.900000e+00 2.100000e-01 1.620000e+00 5.850000e+00\n",
      "  9.200000e-01 3.200000e+00 1.060000e+03]\n",
      " [1.264000e+01 1.360000e+00 2.020000e+00 1.680000e+01 1.000000e+02\n",
      "  2.020000e+00 1.410000e+00 5.300000e-01 6.200000e-01 5.750000e+00\n",
      "  9.800000e-01 1.590000e+00 4.500000e+02]\n",
      " [1.229000e+01 1.610000e+00 2.210000e+00 2.040000e+01 1.030000e+02\n",
      "  1.100000e+00 1.020000e+00 3.700000e-01 1.460000e+00 3.050000e+00\n",
      "  9.060000e-01 1.820000e+00 8.700000e+02]\n",
      " [1.371000e+01 5.650000e+00 2.450000e+00 2.050000e+01 9.500000e+01\n",
      "  1.680000e+00 6.100000e-01 5.200000e-01 1.060000e+00 7.700000e+00\n",
      "  6.400000e-01 1.740000e+00 7.400000e+02]\n",
      " [1.369000e+01 3.260000e+00 2.540000e+00 2.000000e+01 1.070000e+02\n",
      "  1.830000e+00 5.600000e-01 5.000000e-01 8.000000e-01 5.880000e+00\n",
      "  9.600000e-01 1.820000e+00 6.800000e+02]\n",
      " [1.320000e+01 1.780000e+00 2.140000e+00 1.120000e+01 1.000000e+02\n",
      "  2.650000e+00 2.760000e+00 2.600000e-01 1.280000e+00 4.380000e+00\n",
      "  1.050000e+00 3.400000e+00 1.050000e+03]\n",
      " [1.176000e+01 2.680000e+00 2.920000e+00 2.000000e+01 1.030000e+02\n",
      "  1.750000e+00 2.030000e+00 6.000000e-01 1.050000e+00 3.800000e+00\n",
      "  1.230000e+00 2.500000e+00 6.070000e+02]\n",
      " [1.204000e+01 4.300000e+00 2.380000e+00 2.200000e+01 8.000000e+01\n",
      "  2.100000e+00 1.750000e+00 4.200000e-01 1.350000e+00 2.600000e+00\n",
      "  7.900000e-01 2.570000e+00 5.800000e+02]\n",
      " [1.364000e+01 3.100000e+00 2.560000e+00 1.520000e+01 1.160000e+02\n",
      "  2.700000e+00 3.030000e+00 1.700000e-01 1.660000e+00 5.100000e+00\n",
      "  9.600000e-01 3.360000e+00 8.450000e+02]\n",
      " [1.387000e+01 1.900000e+00 2.800000e+00 1.940000e+01 1.070000e+02\n",
      "  2.950000e+00 2.970000e+00 3.700000e-01 1.760000e+00 4.500000e+00\n",
      "  1.250000e+00 3.400000e+00 9.150000e+02]\n",
      " [1.334000e+01 9.400000e-01 2.360000e+00 1.700000e+01 1.100000e+02\n",
      "  2.530000e+00 1.300000e+00 5.500000e-01 4.200000e-01 3.170000e+00\n",
      "  1.020000e+00 1.930000e+00 7.500000e+02]\n",
      " [1.340000e+01 4.600000e+00 2.860000e+00 2.500000e+01 1.120000e+02\n",
      "  1.980000e+00 9.600000e-01 2.700000e-01 1.110000e+00 8.500000e+00\n",
      "  6.700000e-01 1.920000e+00 6.300000e+02]\n",
      " [1.237000e+01 9.400000e-01 1.360000e+00 1.060000e+01 8.800000e+01\n",
      "  1.980000e+00 5.700000e-01 2.800000e-01 4.200000e-01 1.950000e+00\n",
      "  1.050000e+00 1.820000e+00 5.200000e+02]\n",
      " [1.483000e+01 1.640000e+00 2.170000e+00 1.400000e+01 9.700000e+01\n",
      "  2.800000e+00 2.980000e+00 2.900000e-01 1.980000e+00 5.200000e+00\n",
      "  1.080000e+00 2.850000e+00 1.045000e+03]\n",
      " [1.281000e+01 2.310000e+00 2.400000e+00 2.400000e+01 9.800000e+01\n",
      "  1.150000e+00 1.090000e+00 2.700000e-01 8.300000e-01 5.700000e+00\n",
      "  6.600000e-01 1.360000e+00 5.600000e+02]\n",
      " [1.372000e+01 1.430000e+00 2.500000e+00 1.670000e+01 1.080000e+02\n",
      "  3.400000e+00 3.670000e+00 1.900000e-01 2.040000e+00 6.800000e+00\n",
      "  8.900000e-01 2.870000e+00 1.285000e+03]\n",
      " [1.348000e+01 1.810000e+00 2.410000e+00 2.050000e+01 1.000000e+02\n",
      "  2.700000e+00 2.980000e+00 2.600000e-01 1.860000e+00 5.100000e+00\n",
      "  1.040000e+00 3.470000e+00 9.200000e+02]\n",
      " [1.270000e+01 3.870000e+00 2.400000e+00 2.300000e+01 1.010000e+02\n",
      "  2.830000e+00 2.550000e+00 4.300000e-01 1.950000e+00 2.570000e+00\n",
      "  1.190000e+00 3.130000e+00 4.630000e+02]\n",
      " [1.279000e+01 2.670000e+00 2.480000e+00 2.200000e+01 1.120000e+02\n",
      "  1.480000e+00 1.360000e+00 2.400000e-01 1.260000e+00 1.080000e+01\n",
      "  4.800000e-01 1.470000e+00 4.800000e+02]\n",
      " [1.438000e+01 1.870000e+00 2.380000e+00 1.200000e+01 1.020000e+02\n",
      "  3.300000e+00 3.640000e+00 2.900000e-01 2.960000e+00 7.500000e+00\n",
      "  1.200000e+00 3.000000e+00 1.547000e+03]\n",
      " [1.242000e+01 2.550000e+00 2.270000e+00 2.200000e+01 9.000000e+01\n",
      "  1.680000e+00 1.840000e+00 6.600000e-01 1.420000e+00 2.700000e+00\n",
      "  8.600000e-01 3.300000e+00 3.150000e+02]\n",
      " [1.277000e+01 2.390000e+00 2.280000e+00 1.950000e+01 8.600000e+01\n",
      "  1.390000e+00 5.100000e-01 4.800000e-01 6.400000e-01 9.899999e+00\n",
      "  5.700000e-01 1.630000e+00 4.700000e+02]\n",
      " [1.208000e+01 1.390000e+00 2.500000e+00 2.250000e+01 8.400000e+01\n",
      "  2.560000e+00 2.290000e+00 4.300000e-01 1.040000e+00 2.900000e+00\n",
      "  9.300000e-01 3.190000e+00 3.850000e+02]\n",
      " [1.182000e+01 1.720000e+00 1.880000e+00 1.950000e+01 8.600000e+01\n",
      "  2.500000e+00 1.640000e+00 3.700000e-01 1.420000e+00 2.060000e+00\n",
      "  9.400000e-01 2.440000e+00 4.150000e+02]\n",
      " [1.305000e+01 1.730000e+00 2.040000e+00 1.240000e+01 9.200000e+01\n",
      "  2.720000e+00 3.270000e+00 1.700000e-01 2.910000e+00 7.200000e+00\n",
      "  1.120000e+00 2.910000e+00 1.150000e+03]\n",
      " [1.184000e+01 8.900000e-01 2.580000e+00 1.800000e+01 9.400000e+01\n",
      "  2.200000e+00 2.210000e+00 2.200000e-01 2.350000e+00 3.050000e+00\n",
      "  7.900000e-01 3.080000e+00 5.200000e+02]\n",
      " [1.181000e+01 2.120000e+00 2.740000e+00 2.150000e+01 1.340000e+02\n",
      "  1.600000e+00 9.900000e-01 1.400000e-01 1.560000e+00 2.500000e+00\n",
      "  9.500000e-01 2.260000e+00 6.250000e+02]\n",
      " [1.373000e+01 1.500000e+00 2.700000e+00 2.250000e+01 1.010000e+02\n",
      "  3.000000e+00 3.250000e+00 2.900000e-01 2.380000e+00 5.700000e+00\n",
      "  1.190000e+00 2.710000e+00 1.285000e+03]\n",
      " [1.258000e+01 1.290000e+00 2.100000e+00 2.000000e+01 1.030000e+02\n",
      "  1.480000e+00 5.800000e-01 5.300000e-01 1.400000e+00 7.600000e+00\n",
      "  5.800000e-01 1.550000e+00 6.400000e+02]\n",
      " [1.308000e+01 3.900000e+00 2.360000e+00 2.150000e+01 1.130000e+02\n",
      "  1.410000e+00 1.390000e+00 3.400000e-01 1.140000e+00 9.400000e+00\n",
      "  5.700000e-01 1.330000e+00 5.500000e+02]\n",
      " [1.356000e+01 1.730000e+00 2.460000e+00 2.050000e+01 1.160000e+02\n",
      "  2.960000e+00 2.780000e+00 2.000000e-01 2.450000e+00 6.250000e+00\n",
      "  9.800000e-01 3.030000e+00 1.120000e+03]\n",
      " [1.317000e+01 5.190000e+00 2.320000e+00 2.200000e+01 9.300000e+01\n",
      "  1.740000e+00 6.300000e-01 6.100000e-01 1.550000e+00 7.900000e+00\n",
      "  6.000000e-01 1.480000e+00 7.250000e+02]\n",
      " [1.324000e+01 3.980000e+00 2.290000e+00 1.750000e+01 1.030000e+02\n",
      "  2.640000e+00 2.630000e+00 3.200000e-01 1.660000e+00 4.360000e+00\n",
      "  8.200000e-01 3.000000e+00 6.800000e+02]\n",
      " [1.305000e+01 1.650000e+00 2.550000e+00 1.800000e+01 9.800000e+01\n",
      "  2.450000e+00 2.430000e+00 2.900000e-01 1.440000e+00 4.250000e+00\n",
      "  1.120000e+00 2.510000e+00 1.105000e+03]\n",
      " [1.419000e+01 1.590000e+00 2.480000e+00 1.650000e+01 1.080000e+02\n",
      "  3.300000e+00 3.930000e+00 3.200000e-01 1.860000e+00 8.700000e+00\n",
      "  1.230000e+00 2.820000e+00 1.680000e+03]\n",
      " [1.406000e+01 1.630000e+00 2.280000e+00 1.600000e+01 1.260000e+02\n",
      "  3.000000e+00 3.170000e+00 2.400000e-01 2.100000e+00 5.650000e+00\n",
      "  1.090000e+00 3.710000e+00 7.800000e+02]\n",
      " [1.293000e+01 2.810000e+00 2.700000e+00 2.100000e+01 9.600000e+01\n",
      "  1.540000e+00 5.000000e-01 5.300000e-01 7.500000e-01 4.600000e+00\n",
      "  7.700000e-01 2.310000e+00 6.000000e+02]\n",
      " [1.349000e+01 3.590000e+00 2.190000e+00 1.950000e+01 8.800000e+01\n",
      "  1.620000e+00 4.800000e-01 5.800000e-01 8.800000e-01 5.700000e+00\n",
      "  8.100000e-01 1.820000e+00 5.800000e+02]\n",
      " [1.339000e+01 1.770000e+00 2.620000e+00 1.610000e+01 9.300000e+01\n",
      "  2.850000e+00 2.940000e+00 3.400000e-01 1.450000e+00 4.800000e+00\n",
      "  9.200000e-01 3.220000e+00 1.195000e+03]\n",
      " [1.179000e+01 2.130000e+00 2.780000e+00 2.850000e+01 9.200000e+01\n",
      "  2.130000e+00 2.240000e+00 5.800000e-01 1.760000e+00 3.000000e+00\n",
      "  9.700000e-01 2.440000e+00 4.660000e+02]\n",
      " [1.156000e+01 2.050000e+00 3.230000e+00 2.850000e+01 1.190000e+02\n",
      "  3.180000e+00 5.080000e+00 4.700000e-01 1.870000e+00 6.000000e+00\n",
      "  9.300000e-01 3.690000e+00 4.650000e+02]\n",
      " [1.340000e+01 3.910000e+00 2.480000e+00 2.300000e+01 1.020000e+02\n",
      "  1.800000e+00 7.500000e-01 4.300000e-01 1.410000e+00 7.300000e+00\n",
      "  7.000000e-01 1.560000e+00 7.500000e+02]\n",
      " [1.247000e+01 1.520000e+00 2.200000e+00 1.900000e+01 1.620000e+02\n",
      "  2.500000e+00 2.270000e+00 3.200000e-01 3.280000e+00 2.600000e+00\n",
      "  1.160000e+00 2.630000e+00 9.370000e+02]\n",
      " [1.422000e+01 1.700000e+00 2.300000e+00 1.630000e+01 1.180000e+02\n",
      "  3.200000e+00 3.000000e+00 2.600000e-01 2.030000e+00 6.380000e+00\n",
      "  9.400000e-01 3.310000e+00 9.700000e+02]\n",
      " [1.286000e+01 1.350000e+00 2.320000e+00 1.800000e+01 1.220000e+02\n",
      "  1.510000e+00 1.250000e+00 2.100000e-01 9.400000e-01 4.100000e+00\n",
      "  7.600000e-01 1.290000e+00 6.300000e+02]]\n",
      "y_train [2 2 2 2 1 0 2 1 2 1 1 0 1 0 2 2 1 1 0 1 0 1 2 1 2 0 0 0 1 0 0 2 1 2 1 1 2\n",
      " 0 1 2 1 0 0 2 1 0 2 1 1 0 1 1 2 1 1 1 0 2 0 1 1 0 1 1 1 1 2 1 1 1 1 0 0 0\n",
      " 1 1 2 2 1 1 0 1 2 2 1 2 2 1 1 2 2 2 0 0 0 0 0 1 1 1 0 2 0 1 2 0 0 1 0 1 1\n",
      " 2 1 2 0 0 0 1 0 0 1 2 2 0]\n",
      "y_test [0 0 1 2 0 1 0 1 1 0 1 1 2 2 0 1 1 0 0 1 2 1 0 2 0 0 1 2 0 1 2 1 1 0 1 1 0\n",
      " 2 2 0 2 0 0 0 0 2 2 0 1 1 2 1 0 2]\n"
     ]
    }
   ],
   "source": [
    "# Import train_test_split function\n",
    "from sklearn.model_selection import train_test_split\n",
    "\n",
    "# Split dataset into training set and test set\n",
    "X_train, X_test, y_train, y_test = train_test_split(wine.data, wine.target, test_size=0.3,random_state=109)\n",
    "print(\"X_train\", X_train)\n",
    "print(\"X_test\", X_test)\n",
    "print(\"y_train\", y_train)\n",
    "print(\"y_test\", y_test)"
   ]
  },
  {
   "cell_type": "markdown",
   "metadata": {},
   "source": [
    "#### Model Generation\n",
    "After splitting, you will generate a random forest model on the training set and perform prediction on test set features."
   ]
  },
  {
   "cell_type": "code",
   "execution_count": 13,
   "metadata": {},
   "outputs": [
    {
     "name": "stdout",
     "output_type": "stream",
     "text": [
      "[0 0 1 2 0 1 0 0 1 0 2 2 2 2 0 1 1 0 0 1 2 1 0 2 0 0 1 2 0 1 2 1 1 0 1 1 0\n",
      " 2 2 0 2 1 0 0 0 2 2 0 1 1 2 0 0 2]\n"
     ]
    }
   ],
   "source": [
    "#Import Gaussian Naive Bayes model\n",
    "from sklearn.naive_bayes import GaussianNB\n",
    "\n",
    "#Create a Gaussian Classifier\n",
    "gnb = GaussianNB()\n",
    "\n",
    "#Train the model using the training sets\n",
    "gnb.fit(X_train, y_train)\n",
    "\n",
    "#Predict the response for test dataset\n",
    "y_pred = gnb.predict(X_test)\n",
    "print(y_pred)"
   ]
  },
  {
   "cell_type": "markdown",
   "metadata": {},
   "source": [
    "#### Evaluating model\n",
    "After model generation, check the accuracy using actual and predicted values."
   ]
  },
  {
   "cell_type": "code",
   "execution_count": 39,
   "metadata": {},
   "outputs": [
    {
     "name": "stdout",
     "output_type": "stream",
     "text": [
      "[0 0 1 2 0 1 0 1 1 0 1 1 2 2 0 1 1 0 0 1 2 1 0 2 0 0 1 2 0 1 2 1 1 0 1 1 0\n",
      " 2 2 0 2 0 0 0 0 2 2 0 1 1 2 1 0 2]\n",
      "Accuracy: 0.9074074074074074\n"
     ]
    }
   ],
   "source": [
    "#Import scikit-learn metrics module for accuracy calculation\n",
    "from sklearn import metrics\n",
    "\n",
    "print(y_test)\n",
    "# Model Accuracy, how often is the classifier correct?\n",
    "print(\"Accuracy:\",metrics.accuracy_score(y_test, y_pred))"
   ]
  },
  {
   "cell_type": "markdown",
   "metadata": {},
   "source": [
    "### Advantage\n",
    "<ul>\n",
    "    <li>It is not only a simple approach but also a fast and accurate method for prediction.</li>\n",
    "    <li>Naive Bayes has very low computation cost.</li>\n",
    "    <li>It can efficiently work on a large dataset.</li>\n",
    "    <li>It performs well in case of discrete response variable compared to the continuous variable.</li>\n",
    "    <li>It can be used with multiple class prediction problems.</li>\n",
    "    <li>It also performs well in the case of text analytics problems.</li>\n",
    "<li>When the assumption of independence holds, a Naive Bayes classifier performs better compared to other models like logistic regression.</li>\n",
    "</ul>"
   ]
  },
  {
   "cell_type": "markdown",
   "metadata": {},
   "source": [
    "### Disadvantage\n",
    "<ul>\n",
    "    <li>The assumption of independent features. In practice, it is almost impossible that model will get a set of predictors which are entirely independent.</li>\n",
    "    <li>If there is no training tuple of a particular class, this causes zero posterior probability. In this case, the model is unable to make predictions. This problem is known as Zero Probability/Frequency Problem.</li>\n",
    "</ul>"
   ]
  },
  {
   "cell_type": "code",
   "execution_count": null,
   "metadata": {},
   "outputs": [],
   "source": []
  }
 ],
 "metadata": {
  "kernelspec": {
   "display_name": "Python [conda env:MyEnv] *",
   "language": "python",
   "name": "conda-env-MyEnv-py"
  },
  "language_info": {
   "codemirror_mode": {
    "name": "ipython",
    "version": 3
   },
   "file_extension": ".py",
   "mimetype": "text/x-python",
   "name": "python",
   "nbconvert_exporter": "python",
   "pygments_lexer": "ipython3",
   "version": "3.7.7"
  }
 },
 "nbformat": 4,
 "nbformat_minor": 4
}
